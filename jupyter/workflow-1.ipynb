{
 "cells": [
  {
   "cell_type": "markdown",
   "metadata": {},
   "source": [
    "# WORKFLOW 1"
   ]
  },
  {
   "cell_type": "markdown",
   "metadata": {},
   "source": [
    "#### Load test GCP-Functions: OPTIMIZED and BASELINE"
   ]
  },
  {
   "cell_type": "code",
   "execution_count": null,
   "metadata": {
    "vscode": {
     "languageId": "shellscript"
    }
   },
   "outputs": [],
   "source": [
    "!((cd ../loadtesting/test-function-optimized && k6 run script.js) & (cd ../loadtesting/test-function-baseline && k6 run script.js))"
   ]
  },
  {
   "cell_type": "markdown",
   "metadata": {},
   "source": [
    "#### Import PYTHON modules"
   ]
  },
  {
   "cell_type": "code",
   "execution_count": null,
   "metadata": {},
   "outputs": [],
   "source": [
    "import sys \n",
    "import os\n",
    "sys.path.append(os.path.abspath(\"logs_fetch\"))\n",
    "\n",
    "from logs_fetch.logs_fetch import PROJECT_ID\n",
    "from logs_fetch.logs_fetch import CloudFunction\n",
    "from logs_fetch.logs_fetch import fetch_logs_and_save\n",
    "\n",
    "from logs_metrics.calc_median import calc_median_OPTIMIZED\n",
    "from logs_metrics.calc_median import calc_median_BASELINE"
   ]
  },
  {
   "cell_type": "markdown",
   "metadata": {},
   "source": [
    "#### Fetch logs"
   ]
  },
  {
   "cell_type": "code",
   "execution_count": null,
   "metadata": {},
   "outputs": [],
   "source": [
    "fetch_logs_and_save(CloudFunction.OPTIMIZED, PROJECT_ID, 20)\n",
    "fetch_logs_and_save(CloudFunction.BASELINE, PROJECT_ID, 20)"
   ]
  },
  {
   "cell_type": "markdown",
   "metadata": {},
   "source": [
    "#### Calculate the median"
   ]
  },
  {
   "cell_type": "code",
   "execution_count": null,
   "metadata": {},
   "outputs": [],
   "source": [
    "calc_median_OPTIMIZED()\n",
    "calc_median_BASELINE()"
   ]
  },
  {
   "cell_type": "markdown",
   "metadata": {},
   "source": [
    "### Seaborn"
   ]
  },
  {
   "cell_type": "code",
   "execution_count": null,
   "metadata": {},
   "outputs": [],
   "source": [
    "import pandas as pd\n",
    "import seaborn as sns\n",
    "import matplotlib.pyplot as plt\n",
    "from datetime import datetime\n",
    "\n",
    "# Load data\n",
    "today_date = datetime.now().strftime(\"%Y-%m-%d\")\n",
    "\n",
    "df_optimized = pd.read_csv(f\"./logs_archive/{today_date}-optimizedFunction-logs.csv\")\n",
    "df_baseline = pd.read_csv(f\"./logs_archive/{today_date}-baselineFunction-logs.csv\")\n",
    "\n",
    "# Convert 'timestamp' column to datetime\n",
    "df_optimized['timestamp'] = pd.to_datetime(df_optimized['timestamp'])\n",
    "df_baseline['timestamp'] = pd.to_datetime(df_baseline['timestamp'])\n",
    "\n",
    "# Create the plot\n",
    "plt.figure(figsize=(12, 6))\n",
    "\n",
    "# Plot optimized function execution time\n",
    "sns.lineplot(data=df_optimized, x='timestamp', y='functionexectime', color='blue', label='Optimized Function', lw=2)\n",
    "\n",
    "# Plot baseline function execution time\n",
    "sns.lineplot(data=df_baseline, x='timestamp', y='functionexectime', color='red', label='Baseline Function', lw=2)\n",
    "\n",
    "# Add labels and title\n",
    "plt.xlabel('Timestamp')\n",
    "plt.ylabel('Execution Time (ms)')\n",
    "plt.title('Comparison of Optimized vs Baseline Function Execution Times')\n",
    "\n",
    "# Add a legend\n",
    "plt.legend()\n",
    "\n",
    "# Show plot\n",
    "plt.tight_layout()\n",
    "plt.show()"
   ]
  },
  {
   "cell_type": "markdown",
   "metadata": {},
   "source": [
    "#### Y-axis from 0"
   ]
  },
  {
   "cell_type": "code",
   "execution_count": null,
   "metadata": {},
   "outputs": [],
   "source": [
    "import pandas as pd\n",
    "import seaborn as sns\n",
    "import matplotlib.pyplot as plt\n",
    "from datetime import datetime\n",
    "\n",
    "# Load data\n",
    "today_date = datetime.now().strftime(\"%Y-%m-%d\")\n",
    "\n",
    "df_optimized = pd.read_csv(f\"./logs_archive/{today_date}-optimizedFunction-logs.csv\")\n",
    "df_baseline = pd.read_csv(f\"./logs_archive/{today_date}-baselineFunction-logs.csv\")\n",
    "\n",
    "# Convert 'timestamp' column to datetime\n",
    "df_optimized['timestamp'] = pd.to_datetime(df_optimized['timestamp'])\n",
    "df_baseline['timestamp'] = pd.to_datetime(df_baseline['timestamp'])\n",
    "\n",
    "# Create the plot\n",
    "plt.figure(figsize=(12, 6))\n",
    "\n",
    "# Plot optimized function execution time\n",
    "sns.lineplot(data=df_optimized, x='timestamp', y='functionexectime', color='blue', label='Optimized Function', lw=2)\n",
    "\n",
    "# Plot baseline function execution time\n",
    "sns.lineplot(data=df_baseline, x='timestamp', y='functionexectime', color='red', label='Baseline Function', lw=2)\n",
    "\n",
    "# Add labels and title\n",
    "plt.xlabel('Timestamp')\n",
    "plt.ylabel('Execution Time (ms)')\n",
    "plt.title('Comparison of Optimized vs Baseline Function Execution Times')\n",
    "\n",
    "# Set y-axis to start from 0\n",
    "plt.ylim(bottom=0)\n",
    "\n",
    "# Add a legend\n",
    "plt.legend()\n",
    "\n",
    "# Show plot\n",
    "plt.tight_layout()\n",
    "plt.show()"
   ]
  }
 ],
 "metadata": {
  "kernelspec": {
   "display_name": ".venvJupyterBSC",
   "language": "python",
   "name": ".venvjupyterbsc"
  },
  "language_info": {
   "codemirror_mode": {
    "name": "ipython",
    "version": 3
   },
   "file_extension": ".py",
   "mimetype": "text/x-python",
   "name": "python",
   "nbconvert_exporter": "python",
   "pygments_lexer": "ipython3",
   "version": "3.12.0"
  }
 },
 "nbformat": 4,
 "nbformat_minor": 2
}
