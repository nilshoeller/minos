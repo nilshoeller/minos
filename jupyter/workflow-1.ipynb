{
 "cells": [
  {
   "cell_type": "markdown",
   "metadata": {},
   "source": [
    "# WORKFLOW 1"
   ]
  },
  {
   "cell_type": "code",
   "execution_count": 32,
   "metadata": {},
   "outputs": [],
   "source": [
    "# DEFINE IMPORTANT VARIABLES\n",
    "\n",
    "# Define variables for TEST-BM\n",
    "test_bm_vus = 10\n",
    "test_bm_duration = \"60s\"\n",
    "\n",
    "# Define threshold enum\n",
    "from enum import Enum\n",
    "class ThresholdValue(Enum):\n",
    "    AVG = 0\n",
    "    MED = 1\n",
    "    P60 = 2\n",
    "    P65 = 2\n",
    "\n",
    "# Define threshold value\n",
    "bm_threshold_value = ThresholdValue.P60\n",
    "# In case of AVG, define percent of improvement for function-optimized\n",
    "bm_threshold_improvement = 5\n",
    "\n",
    "# Define variables for FUNCTION EXECUTION\n",
    "vus = 10\n",
    "duration = 30\n",
    "duration_with_format = str(duration) + \"m\" # time formats: s, m, h\n",
    "\n",
    "# Define how many minutes back we have to fetch\n",
    "fetch_minutes_back = int(duration + (0.25 * duration))"
   ]
  },
  {
   "cell_type": "markdown",
   "metadata": {},
   "source": [
    "### Execute Functions"
   ]
  },
  {
   "cell_type": "markdown",
   "metadata": {},
   "source": [
    "##### Calculate median execution time for benchmark"
   ]
  },
  {
   "cell_type": "code",
   "execution_count": null,
   "metadata": {
    "vscode": {
     "languageId": "shellscript"
    }
   },
   "outputs": [],
   "source": [
    "# Construct the command\n",
    "command_test_bm = f\"cd ../loadtesting/test-benchmark && k6 run --env VUS={test_bm_vus} --env DURATION={test_bm_duration} script.js --quiet\"\n",
    "\n",
    "# Run the command\n",
    "get_ipython().system(f\"{command_test_bm}\")"
   ]
  },
  {
   "cell_type": "code",
   "execution_count": null,
   "metadata": {},
   "outputs": [],
   "source": [
    "import json\n",
    "\n",
    "file_path = \"../loadtesting/test-benchmark/summary.json\"\n",
    "\n",
    "# Load the JSON file\n",
    "with open(file_path, 'r') as file:\n",
    "    data = json.load(file)\n",
    "\n",
    "# Access the values of 'min' and 'med'\n",
    "min_value_sec = data['total_duration']['values']['min']\n",
    "max_value_sec = data['total_duration']['values']['max']\n",
    "\n",
    "avg_value_sec = data['total_duration']['values']['avg']\n",
    "med_value_sec = data['total_duration']['values']['med']\n",
    "p60_value_sec = data['total_duration']['values']['p(60)']\n",
    "p65_value_sec = data['total_duration']['values']['p(65)']\n",
    "\n",
    "# Convert seconds to microseconds\n",
    "min_value_us = int(min_value_sec * 1_000_000)\n",
    "max_value_us = int(max_value_sec * 1_000_000)\n",
    "\n",
    "avg_value_us = int(avg_value_sec * 1_000_000)\n",
    "med_value_us = int(med_value_sec * 1_000_000)\n",
    "p60_value_us = int(p60_value_sec * 1_000_000)\n",
    "p65_value_us = int(p65_value_sec * 1_000_000)\n",
    "\n",
    "# Print the results\n",
    "print(f\"Min: {min_value_us} µs\")\n",
    "print(f\"Max: {max_value_us} µs\")\n",
    "\n",
    "print(f\"Avg: {avg_value_us} µs\")\n",
    "print(f\"Med: {med_value_us} µs\")\n",
    "print(f\"p(60): {p60_value_us} µs\")\n",
    "print(f\"p(65): {p65_value_us} µs\")\n",
    "\n",
    "match bm_threshold_value:\n",
    "    case ThresholdValue.AVG:\n",
    "        percent_improvement = bm_threshold_improvement / 100\n",
    "        bm_max_duration = str(avg_value_us - int(percent_improvement * avg_value_us))\n",
    "    case ThresholdValue.MED:\n",
    "        bm_max_duration = str(med_value_us)\n",
    "    case ThresholdValue.P60:\n",
    "        bm_max_duration = str(p60_value_us)\n",
    "    case ThresholdValue.P65:\n",
    "        bm_max_duration = str(p65_value_us)\n",
    "\n",
    "bm_max_duration = str(p60_value_us)\n",
    "print(\"\\nBM threshold: \" + bm_max_duration + \" µs\")"
   ]
  },
  {
   "cell_type": "markdown",
   "metadata": {},
   "source": [
    "##### Load test GCP-Functions: OPTIMIZED and BASELINE"
   ]
  },
  {
   "cell_type": "code",
   "execution_count": null,
   "metadata": {
    "vscode": {
     "languageId": "shellscript"
    }
   },
   "outputs": [],
   "source": [
    "# Define max bm duration and add param to url\n",
    "maxBenchmarkDuration = bm_max_duration + \"us\" if bm_max_duration else \"3850us\"\n",
    "optimized_url = f\"https://europe-west3-bsc-thesis-implementation.cloudfunctions.net/optimizedFunction?maxBenchmarkDuration={maxBenchmarkDuration}\"\n",
    "\n",
    "# Construct the individual commands for each `k6` run\n",
    "command_optimized = f\"cd ../loadtesting/test-function-optimized && k6 run --env URL='{optimized_url}' --env VUS={vus} --env DURATION={duration_with_format} script.js --quiet\"\n",
    "command_baseline = f\"cd ../loadtesting/test-function-baseline && k6 run --env VUS={vus} --env DURATION={duration_with_format} script.js --quiet\"\n",
    "\n",
    "# Run both commands in the background\n",
    "get_ipython().system(f\"({command_optimized}) & ({command_baseline})\")"
   ]
  },
  {
   "cell_type": "markdown",
   "metadata": {},
   "source": [
    "---"
   ]
  },
  {
   "cell_type": "markdown",
   "metadata": {},
   "source": [
    "### Fetch data"
   ]
  },
  {
   "cell_type": "markdown",
   "metadata": {},
   "source": [
    "##### Import PYTHON modules"
   ]
  },
  {
   "cell_type": "code",
   "execution_count": 36,
   "metadata": {},
   "outputs": [],
   "source": [
    "import sys \n",
    "import os\n",
    "from datetime import datetime\n",
    "sys.path.append(os.path.abspath(\"logs_fetch\"))\n",
    "\n",
    "from logs_fetch.logs_fetch import PROJECT_ID\n",
    "from logs_fetch.logs_fetch import CloudFunction\n",
    "from logs_fetch.logs_fetch import fetch_logs_and_save\n",
    "\n",
    "from logs_metrics.calc_median_function_execution import return_median_function_execution_BASELINE\n",
    "from logs_metrics.calc_median_function_execution import return_median_function_execution_OPTIMIZED\n",
    "\n",
    "from logs_metrics.calc_median_download import return_median_download_BASELINE\n",
    "from logs_metrics.calc_median_download import return_median_download_OPTIMIZED\n",
    "\n",
    "from logs_metrics.calc_median_lr_duration import return_median_lr_duration_BASELINE\n",
    "from logs_metrics.calc_median_lr_duration import return_median_lr_duration_OPTIMIZED"
   ]
  },
  {
   "cell_type": "markdown",
   "metadata": {},
   "source": [
    "##### Setup folder"
   ]
  },
  {
   "cell_type": "code",
   "execution_count": 37,
   "metadata": {},
   "outputs": [],
   "source": [
    "# SETUP FOLDER FOR LOGS\n",
    "base_folder_path = \"./logs_archive\"\n",
    "today_date = datetime.now().strftime(\"%Y-%m-%d\")\n",
    "date_folder = os.path.join(base_folder_path, today_date)\n",
    "\n",
    "# Create the directory if it doesn't exist\n",
    "os.makedirs(date_folder, exist_ok=True)\n",
    "    \n",
    "# Check the number of existing subfolders for today's date\n",
    "existing_folders = [f.name for f in os.scandir(date_folder) if f.is_dir()]\n",
    "execution_count = len(existing_folders) + 1  # Increment folder name based on the existing number of folders\n",
    "    \n",
    "# Create a unique subfolder for this execution\n",
    "execution_folder_path = os.path.join(date_folder, f\"execution_{execution_count}\")\n",
    "os.makedirs(execution_folder_path, exist_ok=True)"
   ]
  },
  {
   "cell_type": "markdown",
   "metadata": {},
   "source": [
    "##### Fetch logs"
   ]
  },
  {
   "cell_type": "code",
   "execution_count": null,
   "metadata": {},
   "outputs": [],
   "source": [
    "fetch_logs_and_save(CloudFunction.OPTIMIZED, PROJECT_ID, fetch_minutes_back, execution_folder_path)"
   ]
  },
  {
   "cell_type": "code",
   "execution_count": null,
   "metadata": {},
   "outputs": [],
   "source": [
    "fetch_logs_and_save(CloudFunction.BASELINE, PROJECT_ID, fetch_minutes_back, execution_folder_path)"
   ]
  },
  {
   "cell_type": "markdown",
   "metadata": {},
   "source": [
    "---"
   ]
  },
  {
   "cell_type": "markdown",
   "metadata": {},
   "source": [
    "### Perform Analysis"
   ]
  },
  {
   "cell_type": "code",
   "execution_count": 41,
   "metadata": {},
   "outputs": [],
   "source": [
    "# Create folder and path\n",
    "import os\n",
    "from datetime import datetime\n",
    "\n",
    "today_date = datetime.now().strftime(\"%Y-%m-%d\")\n",
    "\n",
    "# Define the folder path for saving plots\n",
    "base_folder_path = os.path.join(os.getcwd(), \"seaborn_plots\", today_date)\n",
    "# Create the directory if it doesn't exist\n",
    "os.makedirs(base_folder_path, exist_ok=True)\n",
    "\n",
    "# Check the number of existing subfolders for today's date\n",
    "existing_folders = [f.name for f in os.scandir(base_folder_path) if f.is_dir()]\n",
    "execution_count = len(existing_folders) + 1  # Increment folder name based on the existing number of folders\n",
    "\n",
    "# Create a unique subfolder for this execution\n",
    "execution_folder = os.path.join(base_folder_path, f\"execution_{execution_count}\")\n",
    "os.makedirs(execution_folder, exist_ok=True)"
   ]
  },
  {
   "cell_type": "markdown",
   "metadata": {},
   "source": [
    "##### Calculate Metrics"
   ]
  },
  {
   "cell_type": "code",
   "execution_count": null,
   "metadata": {},
   "outputs": [],
   "source": [
    "import pandas as pd\n",
    "median_function_execution = return_median_function_execution_BASELINE(execution_count), return_median_function_execution_OPTIMIZED(execution_count)\n",
    "median_download_duration = return_median_download_BASELINE(execution_count), return_median_download_OPTIMIZED(execution_count)\n",
    "median_lr_duration = return_median_lr_duration_BASELINE(execution_count), return_median_lr_duration_OPTIMIZED(execution_count)\n",
    "\n",
    "data = {\n",
    "    \"Metric\": [\"Function Execution Time\", \"Download Duration\", \"Linear Regression Execution Time\"],\n",
    "    \"Baseline\": [median_function_execution[0], median_download_duration[0], median_lr_duration[0]],\n",
    "    \"Optimized\": [median_function_execution[1], median_download_duration[1], median_lr_duration[1]],\n",
    "}\n",
    "\n",
    "# Create DataFrame\n",
    "df = pd.DataFrame(data)\n",
    "\n",
    "# Calculate % Improvement and add as a new column\n",
    "df[\"% Improvement\"] = ((df[\"Baseline\"] - df[\"Optimized\"]) / df[\"Baseline\"]) * 100\n",
    "\n",
    "# Save table\n",
    "file_name = \"table.json\"\n",
    "output_path = os.path.join(execution_folder, file_name)\n",
    "df.to_json(output_path, orient=\"records\", indent=4)\n",
    "\n",
    "# Display DataFrame\n",
    "# print(df)\n",
    "\n",
    "# Conditional styling\n",
    "styled_df = df.style.format({\"Baseline\": \"{:.1f}\", \"Optimized\": \"{:.1f}\", \"% Improvement\": \"{:.1f}\"}) \\\n",
    "                    .map(lambda x: 'color: red;' if x < 0 else 'color: green;', subset=[\"% Improvement\"]) \\\n",
    "                   .set_table_styles([{\n",
    "                       'selector': 'thead th', \n",
    "                       'props': [\n",
    "                           ('background-color', '#f2f2f2'), \n",
    "                           ('color', 'black'), \n",
    "                           ('font-size', '16px'), \n",
    "                           ('text-align', 'center')\n",
    "                           ],\n",
    "                       }\n",
    "                       ]) \\\n",
    "                   .set_properties(**{\n",
    "                       'border': '1px solid black',\n",
    "                       'text-align': 'center',\n",
    "                       'font-size': '14px',\n",
    "                       'padding': '10px',\n",
    "                   }) \\\n",
    "                   .hide(axis=\"index\")\n",
    "\n",
    "# Display the styled DataFrame\n",
    "styled_df"
   ]
  },
  {
   "cell_type": "markdown",
   "metadata": {},
   "source": [
    "---"
   ]
  },
  {
   "cell_type": "markdown",
   "metadata": {},
   "source": [
    "### Create Graphics with Seaborn"
   ]
  },
  {
   "cell_type": "markdown",
   "metadata": {},
   "source": [
    "#### Imports and Load data"
   ]
  },
  {
   "cell_type": "code",
   "execution_count": 43,
   "metadata": {},
   "outputs": [],
   "source": [
    "# IMPORTS\n",
    "import pandas as pd\n",
    "import seaborn as sns\n",
    "import matplotlib.pyplot as plt\n",
    "from datetime import datetime\n",
    "\n",
    "today_date = datetime.now().strftime(\"%Y-%m-%d\")\n",
    "\n",
    "df_optimized = pd.read_csv(f\"./logs_archive/{today_date}/execution_{execution_count}/{today_date}-optimizedFunction-logs.csv\")\n",
    "df_baseline = pd.read_csv(f\"./logs_archive/{today_date}/execution_{execution_count}/{today_date}-baselineFunction-logs.csv\")\n",
    "\n",
    "# Adjust window size as needed\n",
    "window_size = 50\n",
    "\n",
    "# Convert 'timestamp' col to datetime\n",
    "df_optimized['timestamp'] = pd.to_datetime(df_optimized['timestamp'])\n",
    "df_baseline['timestamp'] = pd.to_datetime(df_baseline['timestamp'])\n",
    "# Create col duration in minutes for x-axis\n",
    "df_optimized['duration_minutes'] = (df_optimized['timestamp'] - df_optimized['timestamp'].min()).dt.total_seconds() / 60\n",
    "df_baseline['duration_minutes'] = (df_baseline['timestamp'] - df_baseline['timestamp'].min()).dt.total_seconds() / 60\n",
    "# Create col for smoothed execution time\n",
    "df_optimized['smoothed_execution_time'] = df_optimized['execution_time'].rolling(window=window_size).mean()\n",
    "df_baseline['smoothed_execution_time'] = df_baseline['execution_time'].rolling(window=window_size).mean()\n",
    "# Create col for smoothed lr-duration\n",
    "df_optimized = df_optimized[df_optimized['lr_duration'] != 0] # filter out zeros\n",
    "df_optimized['smoothed_lr_duration'] = df_optimized['lr_duration'].rolling(window=window_size).mean()\n",
    "df_baseline['smoothed_lr_duration'] = df_baseline['lr_duration'].rolling(window=window_size).mean()\n",
    "\n",
    "df_optimized = df_optimized[df_optimized['lr_duration'] != 0]\n"
   ]
  },
  {
   "cell_type": "markdown",
   "metadata": {},
   "source": [
    "#### Execution Time"
   ]
  },
  {
   "cell_type": "code",
   "execution_count": null,
   "metadata": {},
   "outputs": [],
   "source": [
    "# CREATE PLOT\n",
    "sns.set_theme(style=\"darkgrid\")  # Options: darkgrid, whitegrid, dark, white, ticks\n",
    "palette = sns.color_palette(\"deep\")  # Options: \"Set1\", \"Set2\", \"Set3\", \"coolwarm\", \"viridis\", etc.\n",
    "\n",
    "# Create the plot\n",
    "plt.figure(figsize=(12, 6))\n",
    "\n",
    "# Plot for optimized and baseline function execution time\n",
    "sns.lineplot(data=df_optimized, x='duration_minutes', y='execution_time', color=palette[0], label='Optimized Function', lw=2)\n",
    "sns.lineplot(data=df_baseline, x='duration_minutes', y='execution_time', color=palette[1], label='Baseline Function', lw=2)\n",
    "\n",
    "# Add labels and title\n",
    "plt.xlabel('Duration (min)')\n",
    "plt.ylabel('Execution Time (ms)')\n",
    "plt.title('Comparison of Optimized vs Baseline Function Execution Times')\n",
    "\n",
    "# Set x-axis and y-axis to start at 0\n",
    "plt.xlim(left=0)\n",
    "plt.ylim(bottom=0)\n",
    "\n",
    "# Add a legend\n",
    "plt.legend()\n",
    "\n",
    "# Shrink layout\n",
    "plt.tight_layout()\n",
    "\n",
    "# SAVE PLOT\n",
    "plot_filename = os.path.join(execution_folder, \"execution-times.pdf\")\n",
    "plt.savefig(plot_filename)\n",
    "# SHOW PLOT\n",
    "plt.show() "
   ]
  },
  {
   "cell_type": "markdown",
   "metadata": {},
   "source": [
    "##### Execution Time Rolling Avg"
   ]
  },
  {
   "cell_type": "code",
   "execution_count": null,
   "metadata": {},
   "outputs": [],
   "source": [
    "# CREATE PLOT\n",
    "sns.set_theme(style=\"darkgrid\")\n",
    "palette = sns.color_palette(\"deep\")\n",
    "\n",
    "# Create the plot\n",
    "plt.figure(figsize=(12, 6))\n",
    "\n",
    "# Plot optimized function execution time\n",
    "sns.lineplot(data=df_optimized, x='duration_minutes', y='smoothed_execution_time', color=palette[0], label='Optimized Function (Smoothed)', lw=2)\n",
    "\n",
    "# Plot baseline function execution time\n",
    "sns.lineplot(data=df_baseline, x='duration_minutes', y='smoothed_execution_time', color=palette[1], label='Baseline Function (Smoothed)', lw=2)\n",
    "\n",
    "# Add labels and title\n",
    "plt.xlabel('Duration (min)')\n",
    "plt.ylabel('Execution Time (ms)')\n",
    "plt.title('Comparison of Optimized vs Baseline Function Execution Times (Smoothed)')\n",
    "\n",
    "# Set x-axis and y-axis to start at 0\n",
    "plt.xlim(left=0)\n",
    "plt.ylim(bottom=0)\n",
    "\n",
    "# Add a legend\n",
    "plt.legend()\n",
    "\n",
    "# Shrink layout\n",
    "plt.tight_layout()\n",
    "\n",
    "# SAVE PLOT\n",
    "plot_filename = os.path.join(execution_folder, \"execution-times-rolling-avg.pdf\")\n",
    "plt.savefig(plot_filename)\n",
    "# SHOW PLOT\n",
    "plt.show() "
   ]
  },
  {
   "cell_type": "markdown",
   "metadata": {},
   "source": [
    "---"
   ]
  },
  {
   "cell_type": "markdown",
   "metadata": {},
   "source": [
    "#### LR Duration"
   ]
  },
  {
   "cell_type": "code",
   "execution_count": 46,
   "metadata": {},
   "outputs": [],
   "source": [
    "# Filter out zeros from crashed instances\n",
    "df_optimized = df_optimized[df_optimized['lr_duration'] != 0]"
   ]
  },
  {
   "cell_type": "code",
   "execution_count": null,
   "metadata": {},
   "outputs": [],
   "source": [
    "# CREATE PLOT\n",
    "sns.set_theme(style=\"darkgrid\")  # Options: darkgrid, whitegrid, dark, white, ticks\n",
    "palette = sns.color_palette(\"deep\")  # Options: \"Set1\", \"Set2\", \"Set3\", \"coolwarm\", \"viridis\", etc.\n",
    "\n",
    "# Create the plot\n",
    "plt.figure(figsize=(12, 6))\n",
    "\n",
    "# Plot optimized function execution time\n",
    "sns.lineplot(data=df_optimized, x='duration_minutes', y='lr_duration', color=palette[0], label='Optimized Function', lw=2)\n",
    "\n",
    "# Plot baseline function execution time\n",
    "sns.lineplot(data=df_baseline, x='duration_minutes', y='lr_duration', color=palette[1], label='Baseline Function', lw=2)\n",
    "\n",
    "# Add labels and title\n",
    "plt.xlabel('Duration (min)')\n",
    "plt.ylabel('LR Duration (ms)')\n",
    "plt.title('Comparison of Optimized vs Baseline Function LR Duration')\n",
    "\n",
    "# Set x-axis and y-axis to start at 0\n",
    "plt.xlim(left=0)\n",
    "plt.ylim(bottom=0)\n",
    "\n",
    "# Add a legend\n",
    "plt.legend()\n",
    "\n",
    "# Shrink layout\n",
    "plt.tight_layout()\n",
    "\n",
    "# SAVE PLOT\n",
    "plot_filename = os.path.join(execution_folder, \"lr-duration.pdf\")\n",
    "plt.savefig(plot_filename)\n",
    "# SHOW PLOT\n",
    "plt.show() \n",
    "plt.show() "
   ]
  },
  {
   "cell_type": "markdown",
   "metadata": {},
   "source": [
    "##### LR Duration Rolling Avg"
   ]
  },
  {
   "cell_type": "code",
   "execution_count": null,
   "metadata": {},
   "outputs": [],
   "source": [
    "# CREATE PLOT\n",
    "sns.set_theme(style=\"darkgrid\")\n",
    "palette = sns.color_palette(\"deep\")\n",
    "\n",
    "# Create the plot\n",
    "plt.figure(figsize=(12, 6))\n",
    "\n",
    "# Plot optimized function execution time\n",
    "sns.lineplot(data=df_optimized, x='duration_minutes', y='smoothed_lr_duration', color=palette[0], label='Optimized Function (Smoothed)', lw=2)\n",
    "\n",
    "# Plot baseline function execution time\n",
    "sns.lineplot(data=df_baseline, x='duration_minutes', y='smoothed_lr_duration', color=palette[1], label='Baseline Function (Smoothed)', lw=2)\n",
    "\n",
    "# Add labels and title\n",
    "plt.xlabel('Duration (min)')\n",
    "plt.ylabel('Execution Time (ms)')\n",
    "plt.title('Comparison of Optimized vs Baseline Function LR Duration (Smoothed)')\n",
    "\n",
    "# Set x-axis and y-axis to start at 0\n",
    "plt.xlim(left=0)\n",
    "plt.ylim(bottom=0)\n",
    "\n",
    "# Add a legend\n",
    "plt.legend()\n",
    "\n",
    "# Show plot\n",
    "# Shrink layout\n",
    "plt.tight_layout()\n",
    "\n",
    "# SAVE PLOT\n",
    "plot_filename = os.path.join(execution_folder, \"lr-duration-rolling-avg.pdf\")\n",
    "plt.savefig(plot_filename)\n",
    "# SHOW PLOT\n",
    "plt.show() "
   ]
  },
  {
   "cell_type": "markdown",
   "metadata": {},
   "source": [
    "---"
   ]
  }
 ],
 "metadata": {
  "kernelspec": {
   "display_name": ".venvJupyterBSC",
   "language": "python",
   "name": "python3"
  },
  "language_info": {
   "codemirror_mode": {
    "name": "ipython",
    "version": 3
   },
   "file_extension": ".py",
   "mimetype": "text/x-python",
   "name": "python",
   "nbconvert_exporter": "python",
   "pygments_lexer": "ipython3",
   "version": "3.12.0"
  }
 },
 "nbformat": 4,
 "nbformat_minor": 2
}
