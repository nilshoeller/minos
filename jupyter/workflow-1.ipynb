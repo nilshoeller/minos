{
 "cells": [
  {
   "cell_type": "markdown",
   "metadata": {},
   "source": [
    "# WORKFLOW 1"
   ]
  },
  {
   "cell_type": "markdown",
   "metadata": {},
   "source": [
    "#### Load test GCP-Functions: OPTIMIZED and BASELINE"
   ]
  },
  {
   "cell_type": "code",
   "execution_count": null,
   "metadata": {
    "vscode": {
     "languageId": "shellscript"
    }
   },
   "outputs": [],
   "source": [
    "# Define the variables for VUS and DURATION\n",
    "vus = 2\n",
    "duration = \"600s\"\n",
    "\n",
    "# Construct the individual commands for each `k6` run\n",
    "command_optimized = f\"cd ../loadtesting/test-function-optimized && k6 run --env VUS={vus} --env DURATION={duration} script.js\"\n",
    "command_baseline = f\"cd ../loadtesting/test-function-baseline && k6 run --env VUS={vus} --env DURATION={duration} script.js\"\n",
    "\n",
    "# Run both commands in the background\n",
    "get_ipython().system(f\"({command_optimized}) & ({command_baseline})\")"
   ]
  },
  {
   "cell_type": "markdown",
   "metadata": {},
   "source": [
    "#### Import PYTHON modules"
   ]
  },
  {
   "cell_type": "code",
   "execution_count": null,
   "metadata": {},
   "outputs": [],
   "source": [
    "import sys \n",
    "import os\n",
    "sys.path.append(os.path.abspath(\"logs_fetch\"))\n",
    "\n",
    "from logs_fetch.logs_fetch import PROJECT_ID\n",
    "from logs_fetch.logs_fetch import CloudFunction\n",
    "from logs_fetch.logs_fetch import fetch_logs_and_save\n",
    "\n",
    "from logs_metrics.calc_median_function_execution import return_median_function_execution_BASELINE\n",
    "from logs_metrics.calc_median_function_execution import return_median_function_execution_OPTIMIZED\n",
    "\n",
    "from logs_metrics.calc_median_download import return_median_download_BASELINE\n",
    "from logs_metrics.calc_median_download import return_median_download_OPTIMIZED\n",
    "\n",
    "from logs_metrics.calc_median_lr_duration import return_median_lr_duration_BASELINE\n",
    "from logs_metrics.calc_median_lr_duration import return_median_lr_duration_OPTIMIZED"
   ]
  },
  {
   "cell_type": "markdown",
   "metadata": {},
   "source": [
    "#### Fetch logs"
   ]
  },
  {
   "cell_type": "code",
   "execution_count": null,
   "metadata": {},
   "outputs": [],
   "source": [
    "fetch_logs_and_save(CloudFunction.OPTIMIZED, PROJECT_ID, 15)\n",
    "fetch_logs_and_save(CloudFunction.BASELINE, PROJECT_ID, 15)"
   ]
  },
  {
   "cell_type": "markdown",
   "metadata": {},
   "source": [
    "#### Get metrics"
   ]
  },
  {
   "cell_type": "code",
   "execution_count": null,
   "metadata": {},
   "outputs": [
    {
     "data": {
      "text/html": [
       "<style type=\"text/css\">\n",
       "#T_c3ce5 thead th {\n",
       "  background-color: #f2f2f2;\n",
       "  color: black;\n",
       "  font-size: 16px;\n",
       "  text-align: center;\n",
       "}\n",
       "#T_c3ce5_row0_col0, #T_c3ce5_row0_col1, #T_c3ce5_row0_col2, #T_c3ce5_row1_col0, #T_c3ce5_row1_col1, #T_c3ce5_row1_col2, #T_c3ce5_row2_col0, #T_c3ce5_row2_col1, #T_c3ce5_row2_col2 {\n",
       "  border: 1px solid black;\n",
       "  text-align: center;\n",
       "  font-size: 14px;\n",
       "  padding: 10px;\n",
       "}\n",
       "#T_c3ce5_row0_col3, #T_c3ce5_row2_col3 {\n",
       "  color: red;\n",
       "  border: 1px solid black;\n",
       "  text-align: center;\n",
       "  font-size: 14px;\n",
       "  padding: 10px;\n",
       "}\n",
       "#T_c3ce5_row1_col3 {\n",
       "  color: green;\n",
       "  border: 1px solid black;\n",
       "  text-align: center;\n",
       "  font-size: 14px;\n",
       "  padding: 10px;\n",
       "}\n",
       "</style>\n",
       "<table id=\"T_c3ce5\">\n",
       "  <thead>\n",
       "    <tr>\n",
       "      <th id=\"T_c3ce5_level0_col0\" class=\"col_heading level0 col0\" >Metric</th>\n",
       "      <th id=\"T_c3ce5_level0_col1\" class=\"col_heading level0 col1\" >Baseline</th>\n",
       "      <th id=\"T_c3ce5_level0_col2\" class=\"col_heading level0 col2\" >Optimized</th>\n",
       "      <th id=\"T_c3ce5_level0_col3\" class=\"col_heading level0 col3\" >% Improvement</th>\n",
       "    </tr>\n",
       "  </thead>\n",
       "  <tbody>\n",
       "    <tr>\n",
       "      <td id=\"T_c3ce5_row0_col0\" class=\"data row0 col0\" >Function Execution Time</td>\n",
       "      <td id=\"T_c3ce5_row0_col1\" class=\"data row0 col1\" >452.0</td>\n",
       "      <td id=\"T_c3ce5_row0_col2\" class=\"data row0 col2\" >460.5</td>\n",
       "      <td id=\"T_c3ce5_row0_col3\" class=\"data row0 col3\" >-1.9</td>\n",
       "    </tr>\n",
       "    <tr>\n",
       "      <td id=\"T_c3ce5_row1_col0\" class=\"data row1 col0\" >Download Duration</td>\n",
       "      <td id=\"T_c3ce5_row1_col1\" class=\"data row1 col1\" >141.0</td>\n",
       "      <td id=\"T_c3ce5_row1_col2\" class=\"data row1 col2\" >131.0</td>\n",
       "      <td id=\"T_c3ce5_row1_col3\" class=\"data row1 col3\" >7.1</td>\n",
       "    </tr>\n",
       "    <tr>\n",
       "      <td id=\"T_c3ce5_row2_col0\" class=\"data row2 col0\" >Linear Regression Execution Time</td>\n",
       "      <td id=\"T_c3ce5_row2_col1\" class=\"data row2 col1\" >308.0</td>\n",
       "      <td id=\"T_c3ce5_row2_col2\" class=\"data row2 col2\" >309.5</td>\n",
       "      <td id=\"T_c3ce5_row2_col3\" class=\"data row2 col3\" >-0.5</td>\n",
       "    </tr>\n",
       "  </tbody>\n",
       "</table>\n"
      ],
      "text/plain": [
       "<pandas.io.formats.style.Styler at 0x124ceea50>"
      ]
     },
     "execution_count": 33,
     "metadata": {},
     "output_type": "execute_result"
    }
   ],
   "source": [
    "import pandas as pd\n",
    "\n",
    "median_function_execution = return_median_function_execution_BASELINE(), return_median_function_execution_OPTIMIZED()\n",
    "median_download_duration = return_median_download_BASELINE(), return_median_download_OPTIMIZED()\n",
    "median_lr_duration = return_median_lr_duration_BASELINE(), return_median_lr_duration_OPTIMIZED()\n",
    "\n",
    "# Sample data\n",
    "data = {\n",
    "    \"Metric\": [\"Function Execution Time\", \"Download Duration\", \"Linear Regression Execution Time\"],\n",
    "    \"Baseline\": [median_function_execution[0], median_download_duration[0], median_lr_duration[0]],\n",
    "    \"Optimized\": [median_function_execution[1], median_download_duration[1], median_lr_duration[1]],\n",
    "}\n",
    "\n",
    "# Create DataFrame\n",
    "df = pd.DataFrame(data)\n",
    "\n",
    "# Calculate % Improvement and add as a new column\n",
    "df[\"% Improvement\"] = ((df[\"Baseline\"] - df[\"Optimized\"]) / df[\"Baseline\"]) * 100\n",
    "\n",
    "# Display DataFrame\n",
    "# print(df)\n",
    "\n",
    "# Use `map` instead of `applymap` for conditional styling\n",
    "styled_df = df.style.format({\"Baseline\": \"{:.1f}\", \"Optimized\": \"{:.1f}\", \"% Improvement\": \"{:.1f}\"}) \\\n",
    "                    .map(lambda x: 'color: red;' if x < 0 else 'color: green;', subset=[\"% Improvement\"]) \\\n",
    "                   .set_table_styles([{\n",
    "                       'selector': 'thead th', \n",
    "                       'props': [\n",
    "                           ('background-color', '#f2f2f2'), \n",
    "                           ('color', 'black'), \n",
    "                           ('font-size', '16px'), \n",
    "                           ('text-align', 'center')\n",
    "                           ],\n",
    "                       }\n",
    "                       ]) \\\n",
    "                   .set_properties(**{\n",
    "                       'border': '1px solid black',\n",
    "                       'text-align': 'center',\n",
    "                       'font-size': '14px',         # Increase font size\n",
    "                       'padding': '10px',           # Add padding for larger cells\n",
    "                   }) \\\n",
    "                   .hide(axis=\"index\")\n",
    "\n",
    "# Display the styled DataFrame\n",
    "styled_df"
   ]
  },
  {
   "cell_type": "markdown",
   "metadata": {},
   "source": [
    "### Seaborn"
   ]
  },
  {
   "cell_type": "code",
   "execution_count": null,
   "metadata": {},
   "outputs": [],
   "source": [
    "import pandas as pd\n",
    "import seaborn as sns\n",
    "import matplotlib.pyplot as plt\n",
    "from datetime import datetime\n",
    "\n",
    "# Load data\n",
    "today_date = datetime.now().strftime(\"%Y-%m-%d\")\n",
    "\n",
    "df_optimized = pd.read_csv(f\"./logs_archive/{today_date}-optimizedFunction-logs.csv\")\n",
    "df_baseline = pd.read_csv(f\"./logs_archive/{today_date}-baselineFunction-logs.csv\")\n",
    "\n",
    "# Convert 'timestamp' column to datetime\n",
    "df_optimized['timestamp'] = pd.to_datetime(df_optimized['timestamp'])\n",
    "df_baseline['timestamp'] = pd.to_datetime(df_baseline['timestamp'])\n",
    "\n",
    "sns.set_theme(style=\"darkgrid\")  # Options: darkgrid, whitegrid, dark, white, ticks\n",
    "palette = sns.color_palette(\"deep\")  # Options: \"Set1\", \"Set2\", \"Set3\", \"coolwarm\", \"viridis\", etc.\n",
    "\n",
    "# Create the plot\n",
    "plt.figure(figsize=(12, 6))\n",
    "\n",
    "# Plot optimized function execution time\n",
    "sns.lineplot(data=df_optimized, x='timestamp', y='execution_time', color=palette[0], label='Optimized Function', lw=2)\n",
    "\n",
    "# Plot baseline function execution time\n",
    "sns.lineplot(data=df_baseline, x='timestamp', y='execution_time', color=palette[1], label='Baseline Function', lw=2)\n",
    "\n",
    "# Add labels and title\n",
    "plt.xlabel('Timestamp')\n",
    "plt.ylabel('Execution Time (ms)')\n",
    "plt.title('Comparison of Optimized vs Baseline Function Execution Times')\n",
    "\n",
    "# Add a legend\n",
    "plt.legend()\n",
    "\n",
    "# Show plot\n",
    "plt.tight_layout()\n",
    "plt.show() "
   ]
  },
  {
   "cell_type": "markdown",
   "metadata": {},
   "source": [
    "#### Y-axis from 0"
   ]
  },
  {
   "cell_type": "code",
   "execution_count": null,
   "metadata": {},
   "outputs": [],
   "source": [
    "import pandas as pd\n",
    "import seaborn as sns\n",
    "import matplotlib.pyplot as plt\n",
    "from datetime import datetime\n",
    "\n",
    "# Load data\n",
    "today_date = datetime.now().strftime(\"%Y-%m-%d\")\n",
    "\n",
    "df_optimized = pd.read_csv(f\"./logs_archive/{today_date}-optimizedFunction-logs.csv\")\n",
    "df_baseline = pd.read_csv(f\"./logs_archive/{today_date}-baselineFunction-logs.csv\")\n",
    "\n",
    "# Convert 'timestamp' column to datetime\n",
    "df_optimized['timestamp'] = pd.to_datetime(df_optimized['timestamp'])\n",
    "df_baseline['timestamp'] = pd.to_datetime(df_baseline['timestamp'])\n",
    "\n",
    "sns.set_theme(style=\"darkgrid\")  # Options: darkgrid, whitegrid, dark, white, ticks\n",
    "palette = sns.color_palette(\"deep\")  # Options: \"Set1\", \"Set2\", \"Set3\", \"coolwarm\", \"viridis\", etc.\n",
    "\n",
    "# Create the plot\n",
    "plt.figure(figsize=(12, 6))\n",
    "\n",
    "# Plot optimized function execution time\n",
    "sns.lineplot(data=df_optimized, x='timestamp', y='execution_time', color=palette[0], label='Optimized Function', lw=2)\n",
    "\n",
    "# Plot baseline function execution time\n",
    "sns.lineplot(data=df_baseline, x='timestamp', y='execution_time', color=palette[1], label='Baseline Function', lw=2)\n",
    "\n",
    "# Add labels and title\n",
    "plt.xlabel('Timestamp')\n",
    "plt.ylabel('Execution Time (ms)')\n",
    "plt.title('Comparison of Optimized vs Baseline Function Execution Times')\n",
    "\n",
    "# Set y-axis to start from 0\n",
    "plt.ylim(bottom=0)\n",
    "\n",
    "# Add a legend\n",
    "plt.legend()\n",
    "\n",
    "# Show plot\n",
    "plt.tight_layout()\n",
    "plt.show()"
   ]
  },
  {
   "cell_type": "markdown",
   "metadata": {},
   "source": [
    "#### Linear regression duration time"
   ]
  },
  {
   "cell_type": "code",
   "execution_count": null,
   "metadata": {},
   "outputs": [],
   "source": [
    "import pandas as pd\n",
    "import seaborn as sns\n",
    "import matplotlib.pyplot as plt\n",
    "from datetime import datetime\n",
    "\n",
    "# Load data\n",
    "today_date = datetime.now().strftime(\"%Y-%m-%d\")\n",
    "\n",
    "df_optimized = pd.read_csv(f\"./logs_archive/{today_date}-optimizedFunction-logs.csv\")\n",
    "df_baseline = pd.read_csv(f\"./logs_archive/{today_date}-baselineFunction-logs.csv\")\n",
    "\n",
    "# Convert 'timestamp' column to datetime\n",
    "df_optimized['timestamp'] = pd.to_datetime(df_optimized['timestamp'])\n",
    "df_baseline['timestamp'] = pd.to_datetime(df_baseline['timestamp'])\n",
    "\n",
    "# Filter out zeros from crashed instances\n",
    "df_optimized = df_optimized[df_optimized['lr_duration'] != 0]\n",
    "\n",
    "sns.set_theme(style=\"darkgrid\")  # Options: darkgrid, whitegrid, dark, white, ticks\n",
    "palette = sns.color_palette(\"deep\")  # Options: \"Set1\", \"Set2\", \"Set3\", \"coolwarm\", \"viridis\", etc.\n",
    "\n",
    "# Create the plot\n",
    "plt.figure(figsize=(12, 6))\n",
    "\n",
    "# Plot optimized function execution time\n",
    "sns.lineplot(data=df_optimized, x='timestamp', y='lr_duration', color=palette[0], label='Optimized Function', lw=2)\n",
    "\n",
    "# Plot baseline function execution time\n",
    "sns.lineplot(data=df_baseline, x='timestamp', y='lr_duration', color=palette[1], label='Baseline Function', lw=2)\n",
    "\n",
    "# Add labels and title\n",
    "plt.xlabel('Timestamp')\n",
    "plt.ylabel('LR Duration (ms)')\n",
    "plt.title('Comparison of Optimized vs Baseline Function Linear Regression Duration')\n",
    "\n",
    "# Add a legend\n",
    "plt.legend()\n",
    "\n",
    "# Show plot\n",
    "plt.tight_layout()\n",
    "plt.show() "
   ]
  }
 ],
 "metadata": {
  "kernelspec": {
   "display_name": ".venvJupyterBSC",
   "language": "python",
   "name": ".venvjupyterbsc"
  },
  "language_info": {
   "codemirror_mode": {
    "name": "ipython",
    "version": 3
   },
   "file_extension": ".py",
   "mimetype": "text/x-python",
   "name": "python",
   "nbconvert_exporter": "python",
   "pygments_lexer": "ipython3",
   "version": "3.12.0"
  }
 },
 "nbformat": 4,
 "nbformat_minor": 2
}
